{
 "cells": [
  {
   "metadata": {},
   "cell_type": "markdown",
   "source": [
    "# TRABALHO PARCIAL 01 [OPERADORES MORFOLÓGICOS]\n",
    "\n",
    "1. Escolha e implemente um artigo que utilize as técnicas de Morfologia Matemática.\n",
    "Obs.: o artigo precisa ser validado com o professor."
   ],
   "id": "96e55da402bd253c"
  },
  {
   "metadata": {},
   "cell_type": "markdown",
   "source": "Inicialmente, importa-se as bibliotecas matplotlib, cv2 e numpy para realizar as operações necessárias.",
   "id": "d42afa4a43a367fc"
  },
  {
   "cell_type": "code",
   "execution_count": null,
   "id": "initial_id",
   "metadata": {
    "collapsed": true
   },
   "outputs": [],
   "source": [
    "from matplotlib import pyplot as plt\n",
    "import cv2\n",
    "import numpy as np"
   ]
  },
  {
   "metadata": {},
   "cell_type": "markdown",
   "source": "Para essa aplicação",
   "id": "c719666526e45650"
  }
 ],
 "metadata": {
  "kernelspec": {
   "display_name": "Python 3",
   "language": "python",
   "name": "python3"
  },
  "language_info": {
   "codemirror_mode": {
    "name": "ipython",
    "version": 2
   },
   "file_extension": ".py",
   "mimetype": "text/x-python",
   "name": "python",
   "nbconvert_exporter": "python",
   "pygments_lexer": "ipython2",
   "version": "2.7.6"
  }
 },
 "nbformat": 4,
 "nbformat_minor": 5
}
