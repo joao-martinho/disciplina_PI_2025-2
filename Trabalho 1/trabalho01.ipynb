{
 "cells": [
  {
   "cell_type": "markdown",
   "metadata": {},
   "source": [
    "# Análise de imagens de Santarém\n",
    "Este notebook realiza a leitura, binarização, erosão, detecção de contornos e sobreposição de máscaras em imagens de Santarém."
   ]
  },
  {
   "cell_type": "code",
   "metadata": {},
   "source": [
    "!pip install matplotlib opencv-python numpy"
   ],
   "execution_count": null,
   "outputs": []
  },
  {
   "cell_type": "code",
   "metadata": {},
   "source": [
    "from matplotlib import pyplot as plt, cm\n",
    "import cv2\n",
    "import numpy as np"
   ],
   "execution_count": null,
   "outputs": []
  },
  {
   "cell_type": "code",
   "metadata": {},
   "source": [
    "# Leitura da imagem e conversão para tons de cinza\n",
    "imagem = cv2.imread('Santarem3semagua.tif')\n",
    "if len(imagem.shape) == 3:\n",
    "    imagem = cv2.cvtColor(imagem, cv2.COLOR_BGR2GRAY)\n",
    "\n",
    "plt.axis('off')\n",
    "plt.title('Santarém Banda 3 Sem Água')\n",
    "plt.imshow(imagem, 'gray')"
   ],
   "execution_count": null,
   "outputs": []
  },
  {
   "cell_type": "code",
   "metadata": {},
   "source": [
    "# Binarização da imagem\n",
    "(T, binaria) = cv2.threshold(imagem, 33, 255, cv2.THRESH_BINARY)\n",
    "plt.figure(figsize=(10, 5))\n",
    "plt.title('Santarém Binarizada')\n",
    "plt.axis('off')\n",
    "plt.imshow(binaria, 'gray')"
   ],
   "execution_count": null,
   "outputs": []
  },
  {
   "cell_type": "code",
   "metadata": {},
   "source": [
    "# Erosão da imagem binarizada\n",
    "kernel = np.array([\n",
    "    [0, 1, 1, 1, 0],\n",
    "    [1, 1, 1, 1, 1],\n",
    "    [1, 1, 1, 1, 1],\n",
    "    [1, 1, 1, 1, 1],\n",
    "    [0, 1, 1, 1, 0]\n",
    "], dtype=np.uint8)\n",
    "\n",
    "erodida = cv2.erode(binaria, kernel, iterations=2)\n",
    "\n",
    "plt.axis('off')\n",
    "plt.title('Após Erosão')\n",
    "plt.imshow(erodida, 'gray')"
   ],
   "execution_count": null,
   "outputs": []
  },
  {
   "cell_type": "code",
   "metadata": {},
   "source": [
    "# Detecção de contornos\n",
    "bordas, hierarquia = cv2.findContours(erodida, cv2.RETR_EXTERNAL, cv2.CHAIN_APPROX_SIMPLE)\n",
    "\n",
    "imagem_colorida = cv2.cvtColor(erodida, cv2.COLOR_GRAY2BGR)\n",
    "cv2.drawContours(imagem_colorida, bordas, -1, (0,0,255), thickness=2)\n",
    "\n",
    "plt.title('Imagem Erodida + Contornos Vermelhos')\n",
    "plt.axis('off')\n",
    "plt.imshow(cv2.cvtColor(imagem_colorida, cv2.COLOR_BGR2RGB))"
   ],
   "execution_count": null,
   "outputs": []
  },
  {
   "cell_type": "code",
   "metadata": {},
   "source": [
    "# Sobreposição de máscaras vermelhas sobre a imagem colorida\n",
    "imagem = cv2.imread('Santarem345.tif', cv2.IMREAD_UNCHANGED).astype(np.float32)\n",
    "imagem_norm = (imagem - imagem.min()) / (imagem.max() - imagem.min())\n",
    "pseudo = (cm.get_cmap('terrain')(imagem_norm)[:, :, :3] * 255).astype(np.uint8)\n",
    "\n",
    "alpha = 0.4\n",
    "resultado = cv2.addWeighted(\n",
    "    cv2.drawContours(pseudo.copy(), bordas, -1, (255, 0, 0), thickness=cv2.FILLED),\n",
    "    alpha,\n",
    "    pseudo,\n",
    "    1 - alpha,\n",
    "    0\n",
    ")\n",
    "\n",
    "plt.figure(figsize=(8, 8))\n",
    "plt.axis('off')\n",
    "plt.title('Santarem345 com máscaras vermelhas sobre o verde')\n",
    "plt.imshow(resultado)\n",
    "plt.show()"
   ],
   "execution_count": null,
   "outputs": []
  }
 ],
 "metadata": {
  "kernelspec": {
   "display_name": "Python 3",
   "language": "python",
   "name": "python3"
  },
  "language_info": {
   "name": "python",
   "version": "3.11"
  }
 },
 "nbformat": 4,
 "nbformat_minor": 5
}
